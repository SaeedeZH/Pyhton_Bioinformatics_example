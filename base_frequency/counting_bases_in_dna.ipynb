{
 "cells": [
  {
   "cell_type": "code",
   "execution_count": 12,
   "metadata": {},
   "outputs": [
    {
     "name": "stdout",
     "output_type": "stream",
     "text": [
      "The count of T base is 5\n",
      "2\n"
     ]
    }
   ],
   "source": [
    "# Counting Letters in DNA Strings\n",
    "\n",
    "dna = \"ACTGTTGGACCTTA\"\n",
    "# 1\n",
    "ls = [1  for ch in dna if ch ==\"T\"]\n",
    "print(f\"The count of T base is {sum(ls)}\")\n",
    "\n",
    "# 2\n",
    "print(dna.count(\"TT\"))"
   ]
  },
  {
   "cell_type": "code",
   "execution_count": 10,
   "metadata": {},
   "outputs": [
    {
     "name": "stdout",
     "output_type": "stream",
     "text": [
      "The count of G base is 3\n",
      "The base G appears 3 times in the dna\n",
      "The base G appears 3 time in the dna\n"
     ]
    }
   ],
   "source": [
    "# with function\n",
    "def count_base1(dna, base):\n",
    "    return dna.count(base)\n",
    "\n",
    "dna = \"ATCGTAGCGT\"\n",
    "base = \"G\"\n",
    "print(f'The count of {base} base is {count_base1(dna, \"G\")}')\n",
    "\n",
    "print(f\"The base {base} appears {count_base1(dna, base)} times in the dna\")\n",
    "#########################\n",
    "\n",
    "def count_base2(dna, base):\n",
    "    ls = []\n",
    "    for c in dna:\n",
    "        ls.append( True if c == base else False )\n",
    "    return sum(ls)\n",
    "\n",
    "print(f\"The base {base} appears {count_base2(dna, base)} time in the dna\")"
   ]
  },
  {
   "cell_type": "code",
   "execution_count": 18,
   "metadata": {},
   "outputs": [
    {
     "name": "stdout",
     "output_type": "stream",
     "text": [
      "[0, 3, 8, 12]\n",
      "[4, 9]\n"
     ]
    }
   ],
   "source": [
    "# Return the location of special Letters in DNA Strings\n",
    "dna = \"TACTGACCTGACT\"\n",
    "base = \"T\"\n",
    "\n",
    "def base_locs (dna, base):\n",
    "    return ([i for i in range(len(dna)) if dna[i]== base])\n",
    "\n",
    "def pattern_locs1(dna, pattern):\n",
    "    ls = []\n",
    "    for i in range(len(dna)-len(pattern)+1):\n",
    "        if pattern == dna[i:i+len(pattern)]:\n",
    "                ls.append(i)\n",
    "    return ls\n",
    "\n",
    "def pattern_locs2(dna, pattern):\n",
    "    ls = []\n",
    "    ls = [i for i in range(len(dna)-len(pattern)+1) if pattern == dna[i:i+len(pattern)]]\n",
    "        \n",
    "    return ls\n",
    "\n",
    "print(base_locs(dna, base))\n",
    "print(pattern_locs2(dna, \"GAC\"))\n"
   ]
  },
  {
   "cell_type": "code",
   "execution_count": 24,
   "metadata": {},
   "outputs": [
    {
     "name": "stdout",
     "output_type": "stream",
     "text": [
      "The random dna is: CTGGACAGTCTACTGCTGGAGAGAGGATGGACAACTCCCAGGCGTTGAAAGGACTTTCTACTCGACATGGGAGGTGTTCTATTAAAACGGGATGTCGGTGCAGCCCAGCATTTCGGCATACTGATGACTGACTGTAGCCACGGGCGAACGTGGAATGGTTTAAAAACAGCCTGTTCCTAGTCTATTAGCCAGCCTCGCAATGGGGGCCAATGATTCGTGAGAATTCCGACGGCAGTTGCAATAGCCACAGTCGCGGTCGACCCTGGGTCCCAATTCTTACCAAATTTACTAGCACGATCTTACTTTAGCCTCCGAGTATGTCGTTGTCAGGTTGAGTAAAAAACTTAGCTACGAACTGTTCGTCTAAAGATTTGTTGTGTGTGTCGTGAGGAATGAAGTAGGTTGTTTGGCGATTTTACTCGGCTTAGCTTTAAGATCACGCCAGACATTCGATTCTCCGCAGGAAGGCAGCTCTGTAGCCTCCTCCGATTACCGATCCATCGCCATCGCAGGCTAGCCTTATTTTAGTCGGCTTGATCTGGCAACAGAGAATCCTAGACGTTGCAAAGGCTACGTGCAAAATGCCGGCCCACCCTCATACAATATTAATTACTGTTGGGGTGCTTTCTGCGTTTCCAGGCTCTTCCTCGCTGTTAGATATGCTAACCGACATCTGTGGGTGGATCCCGTCCGTAATTACGATATTAGGTTGCATTCTAAGGCATCGACTTCTAGTTCTTACTACAAGCATAGTCTTTTTTCATACATGGTATACCGTGACGCGCACGGAATTGCGATATCCGCGTGCGCCTGCCTACCATATTCTGGCGTAGGTAAAACGCAATTTAGAGCTTAAGAGATCCTGAACGAAACATCGTCCAATAAGAGCATACGCGAGCTGCTGAGATTCCGGAAGCTCACAGCTGCGTTTACTCTCGATCACCCTCGTGCTGAATGATATTTAGTTTGCTACTGGTCTAGCGGTTCGAAAAGTGGAGAT\n"
     ]
    }
   ],
   "source": [
    "# Generating Random DNA Strings\n",
    "import random\n",
    "\n",
    "def generate_string(n, alphabet=\"ACTG\"):\n",
    "    ls = [random.choice(alphabet) for i in range(n)]\n",
    "    dna = \"\".join(ls)  # convert a list to string\n",
    "    return(dna)\n",
    "\n",
    "print(f\"The random dna is: {generate_string(1000)}\")\n"
   ]
  },
  {
   "cell_type": "markdown",
   "metadata": {},
   "source": [
    "# Measuring CPU Time\n",
    "\n",
    "Timings on a MacBook Air 11 running Ubuntu show that the functions using list.append require almost the double of the time of the functions that work with list comprehensions. Even faster is the simple iteration over the string. However, the built-in count functionality of strings (dna.count(base)) runs over 30 times faster than the best of our handwritten Python functions! The reason is that the for loop needed to count in dna.count(base) is actually implemented in C and runs very much faster than loops in Python."
   ]
  },
  {
   "cell_type": "code",
   "execution_count": null,
   "metadata": {},
   "outputs": [],
   "source": [
    "import time\n",
    "# The time.clock() function returns the CPU time spent in the program since its start. \n",
    "# If the interest is in the total time, also including reading and writing files, time.time() is the appropriate function to call.\n",
    "\n",
    "t0 = time.time()\n",
    "# do stuf\n",
    "t1 = time.tiem()\n",
    "cpu_time = t1- t0"
   ]
  },
  {
   "cell_type": "code",
   "execution_count": 70,
   "metadata": {},
   "outputs": [
    {
     "name": "stdout",
     "output_type": "stream",
     "text": [
      "1705844067.5114882\n",
      "[0.006209135055541992, 0.0, 0.0006573200225830078, 0.0, 0.0381627082824707, 0.3646881580352783, 3.7748525142669678, 37.51693391799927]\n",
      "[(2, 0.006209135055541992), (24, 0.0), (251, 0.0006573200225830078), (2386, 0.0), (25248, 0.0381627082824707), (250007, 0.3646881580352783), (2497706, 3.7748525142669678), (25000306, 37.51693391799927)]\n",
      "2: 0.01 s\n",
      "24: 0.00 s\n",
      "251: 0.00 s\n",
      "2386: 0.00 s\n",
      "25248: 0.04 s\n",
      "250007: 0.36 s\n",
      "2497706: 3.77 s\n",
      "25000306: 37.52 s\n"
     ]
    }
   ],
   "source": [
    "## 1 ## Counting Letters in DNA Strings by different genome/dna lenght\n",
    "import time\n",
    "timing = []\n",
    "freq_list = []\n",
    "for gen_len in range(1, 9):\n",
    "    t0 = time.time()\n",
    "    # print(t0)\n",
    "    #freq = count_base2(generate_string(10000000), \"T\") # functions[4]\n",
    "    genome = generate_string(10 ** gen_len)\n",
    "    freq_list.append(count_base2(genome, \"T\"))\n",
    "    t1 = time.time()\n",
    "    # print(t1)\n",
    "    cpu_time = t1 - t0\n",
    "    # print(cpu_time)\n",
    "    #timing.append((\"%.10f\" % cpu_time, freq))\n",
    "    timing.append(cpu_time)\n",
    "\n",
    "print(timing)\n",
    "print(list(zip(freq_list, timing)))\n",
    "\n",
    "for cpu_time, function in zip(timing, freq_list):\n",
    "    # print('{}: {:.2f} s'.format(function, cpu_time)) #  or:\n",
    "    print(f\"{function}: {cpu_time:.2f} s\")"
   ]
  },
  {
   "cell_type": "code",
   "execution_count": 48,
   "metadata": {},
   "outputs": [
    {
     "name": "stdout",
     "output_type": "stream",
     "text": [
      "1705836834.2046728\n",
      "1705836834.2802093\n",
      "0.07553648948669434\n"
     ]
    }
   ],
   "source": [
    "from datetime import datetime\n",
    "t0 = time.time()\n",
    "print(t0)\n",
    "[i for i in range(1000000)]\n",
    "t1 = time.time()\n",
    "print(t1)\n",
    "print(t1-t0)"
   ]
  },
  {
   "cell_type": "code",
   "execution_count": null,
   "metadata": {},
   "outputs": [],
   "source": [
    "#example for format print\n",
    "# f = 12.34456\n",
    "# a = \"shhfd\"\n",
    "# print(\"The test is {:.7f}, {}\".format(f,a))"
   ]
  },
  {
   "cell_type": "markdown",
   "metadata": {},
   "source": [
    "# Efficiency Assessment, \n",
    "# different methods and implmentation for Counting letters/base/bases"
   ]
  },
  {
   "cell_type": "code",
   "execution_count": 81,
   "metadata": {},
   "outputs": [],
   "source": [
    "# first solution:\n",
    "# List Iteration\n",
    "def count_v1(dna, base):\n",
    "    dna = list(dna)  # convert string to list of letters\n",
    "    i = 0            # counter\n",
    "    for c in dna:\n",
    "        if c == base:\n",
    "            i += 1\n",
    "    return i\n",
    "\n",
    "# String Iteration\n",
    "# A slight improvement of our solution is therefore to iterate directly over the string:\n",
    "def count_v2(dna, base):\n",
    "    i = 0 # counter\n",
    "    for c in dna:\n",
    "        if c == base:\n",
    "            i += 1\n",
    "    return i\n",
    "\n",
    "\n",
    "# Inserting print statements and examining the variables is the simplest approach to investigating what is going on:\n",
    "def count_v2_demo(dna, base):\n",
    "    print ('dna:', dna)\n",
    "    print ('base:', base)\n",
    "    i = 0 # counter\n",
    "    for c in dna:\n",
    "        print ('c:', c)\n",
    "        if c == base:\n",
    "            print ('True if test')\n",
    "            i += 1\n",
    "    return i\n",
    "\n",
    "# Index Iteration\n",
    "def count_v3(dna, base):\n",
    "    i = 0 # counter\n",
    "    for j in range(len(dna)):\n",
    "        if dna[j] == base:\n",
    "            i += 1\n",
    "    return i\n",
    "\n",
    "# While Loops\n",
    "def count_v4(dna, base):\n",
    "    i = 0 # counter\n",
    "    j = 0 # string index\n",
    "    while j < len(dna):\n",
    "        if dna[j] == base:\n",
    "            i += 1\n",
    "        j += 1\n",
    "    return i\n",
    "\n",
    "# Summing a Boolean List\n",
    "def count_v5(dna, base):\n",
    "    m = []   # matches for base in dna: m[i]=True if dna[i]==base\n",
    "    for c in dna:\n",
    "        if c == base:\n",
    "            m.append(True)\n",
    "        else:\n",
    "            m.append(False)\n",
    "    return sum(m)\n",
    "\n",
    "# Inline If Test\n",
    "def count_v6(dna, base):\n",
    "    m = []   # matches for base in dna: m[i]=True if dna[i]==base\n",
    "    for c in dna:\n",
    "        m.append(True if c == base else False)\n",
    "    return sum(m)\n",
    "\n",
    "# Using Boolean Values Directly\n",
    "def count_v7(dna, base):\n",
    "    m = []   # matches for base in dna: m[i]=True if dna[i]==base\n",
    "    for c in dna:\n",
    "        m.append(c == base)\n",
    "    return sum(m)\n",
    "\n",
    "# List Comprehensions\n",
    "def count_v8(dna, base):\n",
    "    m = [c == base for c in dna]\n",
    "    return sum(m)\n",
    "\n",
    "# Here it is tempting to get rid of the m variable and reduce the function body to a single line:\n",
    "def count_v9(dna, base):\n",
    "    return sum([c == base for c in dna])\n",
    "\n",
    "# Using a Sum Iterator\n",
    "#The DNA string is usually huge - 3 billion letters for the human species. \n",
    "#Making a boolean array with True and False values therefore increases the memory usage by a factor of two in our sample functions\n",
    "#count_v5 to count_v9. Summing without actually storing an extra list is desirable. Fortunately, sum([x for x in s]) can be \n",
    "#replaced by sum(x for x in s), where the latter sums the elements in s as x visits the elements of s one by one. \n",
    "#Removing the brackets therefore avoids first making a list before applying sum to that list. \n",
    "#This is a minor modification of the count_v9 function:\n",
    "def count_v10(dna, base):\n",
    "    return sum(c == base for c in dna)\n",
    "\n",
    "# Extracting Indices\n",
    "# Instead of making a boolean list with elements expressing whether a letter matches the given base or not,\n",
    "# we may collect all the indices of the matches. This can be done by adding an if test to the list comprehension:\n",
    "\n",
    "def count_v11(dna, base):\n",
    "    return len([i for i in range(len(dna)) if dna[i] == base])\n",
    "\n",
    "# Using Python's Library\n",
    "#Very often when you set out to do a task in Python, there is already functionality for the task in the object itself, \n",
    "# in the Python libraries, or in third-party libraries found on the Internet. Counting how many times a letter\n",
    "#(or substring) base appears in a string dna is obviously a very common task so Python supports it by the syntax dna.count(base):\n",
    "\n",
    "def count_v12(dna, base):\n",
    "    return dna.count(base)\n",
    "\n",
    "# For Print:\n",
    "#We have here illustrated two alternative ways of writing out text where the value of variables are to be inserted in \"slots\" in the string:\n",
    "# printf-style formatting\n",
    "# print ('%s appears %d times in %s' % (base, n, dna))\n",
    "\n",
    "# or (new) format string syntax\n",
    "# print ('{base} appears {n} times in {dna}'.format(base=base, n=n, dna=dna))\n",
    "\n",
    "# Efficiency Assessment\n",
    "#Now we have 11 different versions of how to count the occurrences of a letter in a string.\n",
    "#Which one of these implementations is the fastest? \n",
    "#To answer the question we need some test data, which should be a huge string dna.\n"
   ]
  },
  {
   "cell_type": "markdown",
   "metadata": {},
   "source": [
    "# Generating Random DNA Strings\n"
   ]
  },
  {
   "cell_type": "code",
   "execution_count": 84,
   "metadata": {},
   "outputs": [],
   "source": [
    "import random\n",
    "\n",
    "def generate_string(N, alphabet='ACGT'):\n",
    "    return ''.join([random.choice(alphabet) for i in range(N)])\n",
    "\n",
    "dna = generate_string(6000000)\n"
   ]
  },
  {
   "cell_type": "code",
   "execution_count": 86,
   "metadata": {},
   "outputs": [
    {
     "name": "stdout",
     "output_type": "stream",
     "text": [
      "function vcount_v1= The frequency of T base is: 1497905 with 0.16866350173950195 s cpu time!\n",
      "function vcount_v2= The frequency of T base is: 1497905 with 0.13296723365783691 s cpu time!\n",
      "function vcount_v3= The frequency of T base is: 1497905 with 0.20065784454345703 s cpu time!\n",
      "function vcount_v4= The frequency of T base is: 1497905 with 0.4788401126861572 s cpu time!\n",
      "function vcount_v5= The frequency of T base is: 1497905 with 0.3884549140930176 s cpu time!\n",
      "function vcount_v6= The frequency of T base is: 1497905 with 0.4125657081604004 s cpu time!\n",
      "function vcount_v7= The frequency of T base is: 1497905 with 0.3560950756072998 s cpu time!\n",
      "function vcount_v8= The frequency of T base is: 1497905 with 0.2812309265136719 s cpu time!\n",
      "function vcount_v9= The frequency of T base is: 1497905 with 0.27722835540771484 s cpu time!\n",
      "function vcount_v10= The frequency of T base is: 1497905 with 0.2310655117034912 s cpu time!\n",
      "function vcount_v11= The frequency of T base is: 1497905 with 0.22059035301208496 s cpu time!\n",
      "function vcount_v12= The frequency of T base is: 1497905 with 0.016495227813720703 s cpu time!\n"
     ]
    }
   ],
   "source": [
    "## 2 ## Counting Letters in DNA Strings by different Methods with a genome lenght\n",
    "import time\n",
    "functions = [count_v1, count_v2, count_v3, count_v4, count_v5, count_v6, count_v7, count_v8, count_v9, count_v10, count_v11,\n",
    "             count_v12]\n",
    "def compare_efficiency(functions, dna, base):\n",
    "    timing = []\n",
    "    result = []\n",
    "    for fun in functions:\n",
    "        t0 = time.time()\n",
    "        freq =fun(dna, base)\n",
    "        t1 = time.time()\n",
    "        result.append(( fun.__name__, freq, (t1-t0)))\n",
    "    return result\n",
    "base = \"T\"\n",
    "res= compare_efficiency(functions, dna, base )\n",
    "\n",
    "for item in res:\n",
    "    print(f\"function v{item[0]}= The frequency of {base} base is: {item[1]} with {item[2]} s cpu time!\")\n",
    "     "
   ]
  },
  {
   "cell_type": "code",
   "execution_count": 97,
   "metadata": {},
   "outputs": [
    {
     "name": "stderr",
     "output_type": "stream",
     "text": [
      "test_counting_base (__main__.test_compare_efficeincy) ... ok\n",
      "test_counting_base (__main__.test_compare_efficeincy) ... ok\n",
      "\n",
      "----------------------------------------------------------------------\n",
      "Ran 2 tests in 0.002s\n",
      "\n",
      "OK\n"
     ]
    },
    {
     "data": {
      "text/plain": [
       "<unittest.main.TestProgram at 0x27106f6c220>"
      ]
     },
     "execution_count": 97,
     "metadata": {},
     "output_type": "execute_result"
    }
   ],
   "source": [
    "import unittest\n",
    "class test_compare_efficeincy(unittest.TestCase):\n",
    "\n",
    "    def test_counting_base(self):\n",
    "        for fun in functions:\n",
    "            self.assertEqual(4, fun(\"AGTGATCGATT\",\"T\") )\n",
    "    # if __name__ == \"__main__\":\n",
    "    #     unittest.main()\n",
    "\n",
    "unittest.main(argv=[''], verbosity=3, exit=False)\n",
    "#assert len(res.result.failures) ==0"
   ]
  }
 ],
 "metadata": {
  "kernelspec": {
   "display_name": "Python 3",
   "language": "python",
   "name": "python3"
  },
  "language_info": {
   "codemirror_mode": {
    "name": "ipython",
    "version": 3
   },
   "file_extension": ".py",
   "mimetype": "text/x-python",
   "name": "python",
   "nbconvert_exporter": "python",
   "pygments_lexer": "ipython3",
   "version": "3.9.9"
  }
 },
 "nbformat": 4,
 "nbformat_minor": 2
}
